{
 "cells": [
  {
   "cell_type": "markdown",
   "id": "2a9c7040",
   "metadata": {},
   "source": [
    "# Bank Loans Data - Hypothesis Testing"
   ]
  },
  {
   "cell_type": "code",
   "execution_count": null,
   "id": "34a73098",
   "metadata": {},
   "outputs": [],
   "source": [
    "import pandas as pd\n",
    "import numpy as np\n",
    "import seaborn as sns\n",
    "import matplotlib.pyplot as plt\n",
    "import datetime as dt\n",
    "import re\n",
    "\n",
    "import scipy.stats as stats\n",
    "\n",
    "# set the graphs to show in the jupyter notebook\n",
    "%matplotlib inline\n",
    "\n",
    "# set seabor graphs to a better style\n",
    "sns.set(style=\"ticks\")\n",
    "\n",
    "from dateutil.relativedelta import relativedelta"
   ]
  },
  {
   "cell_type": "code",
   "execution_count": null,
   "id": "d00626c3",
   "metadata": {},
   "outputs": [],
   "source": [
    "# Load the data\n",
    "bankloans = pd.read_csv( 'LoansData.csv' )\n",
    "bankloans"
   ]
  },
  {
   "cell_type": "code",
   "execution_count": null,
   "id": "b65af2cc",
   "metadata": {},
   "outputs": [],
   "source": [
    "#Cleaning up the column names\n",
    "\n",
    "bankloans.columns = [i.replace ('.','_') for i in bankloans.columns]"
   ]
  },
  {
   "cell_type": "code",
   "execution_count": null,
   "id": "f82695d4",
   "metadata": {},
   "outputs": [],
   "source": [
    "# Data Type conversions:\n",
    "\n",
    "bankloans['Interest_Rate'] = bankloans['Interest_Rate'].str.replace('%','').astype('float')\n",
    "\n",
    "bankloans['Debt_To_Income_Ratio'] = bankloans['Debt_To_Income_Ratio'].str.replace('%','').astype('float')\n",
    "\n",
    "bankloans['Loan_Length'] = bankloans['Loan_Length'].str.replace('months','').astype('int')\n",
    "\n",
    "bankloans['Employment_Length'] = bankloans['Employment_Length'].str.replace('years','').str.replace('year','').str.replace('<','').str.replace('+','').astype('float')\n",
    "\n",
    "bankloans['FICO_Range'] = bankloans['FICO_Range'].str.split('-',expand = True)[0].astype('float')"
   ]
  },
  {
   "cell_type": "code",
   "execution_count": null,
   "id": "877db89e",
   "metadata": {},
   "outputs": [],
   "source": [
    "bankloans.dtypes"
   ]
  },
  {
   "cell_type": "code",
   "execution_count": null,
   "id": "137ae2a9",
   "metadata": {},
   "outputs": [],
   "source": [
    "# Identify the duplicates if any\n",
    "\n",
    "bankloans.duplicated().sum()/bankloans.duplicated().count() #no duplicate values found\n",
    "\n",
    "# Missing values detection and treatment\n",
    "\n",
    "def missing_treatment(x):\n",
    "    if x.dtype == 'object':\n",
    "        x = x.fillna(x.mode()[0])\n",
    "    else:\n",
    "        x = x.fillna(x.median())\n",
    "    return x\n",
    " \n",
    "# Outliers Detection and Treatment\n",
    "\n",
    "def  outlier_treatment(x):\n",
    "    if ((x.dtype == 'float') or (x.dtype == 'int')):\n",
    "        x.clip(lower = x.quantile(0.01), upper = x.quantile(0.99))\n",
    "    else:\n",
    "        x\n",
    "    return x"
   ]
  },
  {
   "cell_type": "code",
   "execution_count": null,
   "id": "d8487eba",
   "metadata": {},
   "outputs": [],
   "source": [
    "bankloans = bankloans.apply(lambda x:missing_treatment(x))\n",
    "bankloans = bankloans.apply(lambda x:outlier_treatment(x))"
   ]
  },
  {
   "cell_type": "code",
   "execution_count": null,
   "id": "580a7d2c",
   "metadata": {},
   "outputs": [],
   "source": [
    "bankloans.isna().sum()"
   ]
  },
  {
   "cell_type": "markdown",
   "id": "4a1d9dab",
   "metadata": {},
   "source": [
    "# Interest rate is varied for different loan amounts."
   ]
  },
  {
   "cell_type": "code",
   "execution_count": null,
   "id": "0b5e4ae4",
   "metadata": {},
   "outputs": [],
   "source": [
    "Loan_vs_rate = bankloans[['Amount_Requested','Interest_Rate']]\n",
    "Loan_vs_rate.head(10).sort_values(by = 'Amount_Requested', ascending = True)"
   ]
  },
  {
   "cell_type": "markdown",
   "id": "7bb17696",
   "metadata": {},
   "source": [
    "**Null hypothesis (Ho): r = 0**\n",
    "    \n",
    "**Alternate Hypothesis (Ha) : r <> 0**\n",
    "    \n",
    "**Confidence Interval : 95% ; p-value : 0.05**"
   ]
  },
  {
   "cell_type": "code",
   "execution_count": null,
   "id": "ddc4f17f",
   "metadata": {},
   "outputs": [],
   "source": [
    "relate_1 = stats.pearsonr(Loan_vs_rate.Amount_Requested, Loan_vs_rate.Interest_Rate)\n",
    "relate_1"
   ]
  },
  {
   "cell_type": "markdown",
   "id": "022a92b9",
   "metadata": {},
   "source": [
    "***Correlation coefficient r = 0.332. There is a weak positive relationship between the Loan amounts and the interest rates.***"
   ]
  },
  {
   "cell_type": "markdown",
   "id": "e57d501d",
   "metadata": {},
   "source": [
    "# Loan length impact on interest rate."
   ]
  },
  {
   "cell_type": "code",
   "execution_count": null,
   "id": "fbc47a97",
   "metadata": {},
   "outputs": [],
   "source": [
    "bankloans"
   ]
  },
  {
   "cell_type": "code",
   "execution_count": null,
   "id": "6f7ffb2e",
   "metadata": {},
   "outputs": [],
   "source": [
    "bankloans.Loan_Length.nunique()"
   ]
  },
  {
   "cell_type": "code",
   "execution_count": null,
   "id": "852d2b56",
   "metadata": {},
   "outputs": [],
   "source": [
    "Time_vs_rate = bankloans[['Loan_Length','Interest_Rate']]\n",
    "Time_vs_rate"
   ]
  },
  {
   "cell_type": "code",
   "execution_count": null,
   "id": "a0de1678",
   "metadata": {},
   "outputs": [],
   "source": [
    "Time_vs_rate.groupby('Loan_Length')['Interest_Rate'].mean()"
   ]
  },
  {
   "cell_type": "markdown",
   "id": "e0cf12ca",
   "metadata": {},
   "source": [
    "**Null hypothesis (Ho): There is no relation between loan length and the interest rate.**\n",
    "    \n",
    "**Alternate Hypothesis (Ha) : There is a relation between loan length and interest rate.**\n",
    "    \n",
    "**Confidence Interval : 95% ; p-value : 0.05**"
   ]
  },
  {
   "cell_type": "code",
   "execution_count": null,
   "id": "bee01bca",
   "metadata": {},
   "outputs": [],
   "source": [
    "s1 = Time_vs_rate.loc[bankloans.Loan_Length == 36,'Interest_Rate']\n",
    "s2 = Time_vs_rate.loc[bankloans.Loan_Length == 60,'Interest_Rate']"
   ]
  },
  {
   "cell_type": "code",
   "execution_count": null,
   "id": "aa923a6a",
   "metadata": {},
   "outputs": [],
   "source": [
    "relate_2 = stats.f_oneway(s1,s2)\n",
    "relate_2"
   ]
  },
  {
   "cell_type": "markdown",
   "id": "a5c2d60e",
   "metadata": {},
   "source": [
    "***p-value <<< 0.05, which means Loan length directly impacts the rate of interest.***"
   ]
  },
  {
   "cell_type": "markdown",
   "id": "13c896bd",
   "metadata": {},
   "source": [
    "# Interest rate varies for different purpose of loans."
   ]
  },
  {
   "cell_type": "code",
   "execution_count": null,
   "id": "73632671",
   "metadata": {},
   "outputs": [],
   "source": [
    "bankloans.Loan_Purpose.nunique()"
   ]
  },
  {
   "cell_type": "code",
   "execution_count": null,
   "id": "e80e98e6",
   "metadata": {},
   "outputs": [],
   "source": [
    "bankloans.Loan_Purpose.value_counts()"
   ]
  },
  {
   "cell_type": "code",
   "execution_count": null,
   "id": "3eb1c977",
   "metadata": {},
   "outputs": [],
   "source": [
    "Purpose_vs_rate = bankloans[['Loan_Purpose','Interest_Rate']]\n",
    "Purpose_vs_rate"
   ]
  },
  {
   "cell_type": "code",
   "execution_count": null,
   "id": "3021f7c6",
   "metadata": {},
   "outputs": [],
   "source": [
    "Purpose_vs_rates = pd.DataFrame(Purpose_vs_rate.groupby('Loan_Purpose')['Interest_Rate'].mean().round(2))\n",
    "Purpose_vs_rates = Purpose_vs_rates.reset_index().sort_values(by = 'Interest_Rate', ascending = False)\n",
    "Purpose_vs_rates.reset_index()"
   ]
  },
  {
   "cell_type": "markdown",
   "id": "21616919",
   "metadata": {},
   "source": [
    "**Null hypothesis (Ho): Interest rates does not vary with different purposes of Loans.**\n",
    "    \n",
    "**Alternate Hypothesis (Ha) : Interest rates varies for different purposes of loans.**\n",
    "    \n",
    "**Confidence Interval : 95% ; p-value : 0.05**"
   ]
  },
  {
   "cell_type": "code",
   "execution_count": null,
   "id": "f95db7d5",
   "metadata": {},
   "outputs": [],
   "source": [
    "a1 = bankloans.loc[bankloans.Loan_Purpose == 'moving','Interest_Rate']\n",
    "a2 = bankloans.loc[bankloans.Loan_Purpose == 'debt_consolidation','Interest_Rate']\n",
    "a3 = bankloans.loc[bankloans.Loan_Purpose == 'house','Interest_Rate']\n",
    "a4 = bankloans.loc[bankloans.Loan_Purpose == 'other','Interest_Rate']\n",
    "a5 = bankloans.loc[bankloans.Loan_Purpose == 'credit_card','Interest_Rate']\n",
    "a6 = bankloans.loc[bankloans.Loan_Purpose == 'small_business','Interest_Rate']\n",
    "a7 = bankloans.loc[bankloans.Loan_Purpose == 'wedding','Interest_Rate']\n",
    "a8 = bankloans.loc[bankloans.Loan_Purpose == 'vacation','Interest_Rate']\n",
    "a9 = bankloans.loc[bankloans.Loan_Purpose == 'medical','Interest_Rate']\n",
    "a10 = bankloans.loc[bankloans.Loan_Purpose == 'home_improvement','Interest_Rate']\n",
    "a11 = bankloans.loc[bankloans.Loan_Purpose == 'car','Interest_Rate']\n",
    "a12 = bankloans.loc[bankloans.Loan_Purpose == 'educational','Interest_Rate']\n",
    "a13 = bankloans.loc[bankloans.Loan_Purpose == 'major_purchase','Interest_Rate']\n",
    "a14 = bankloans.loc[bankloans.Loan_Purpose == 'renewable_energy','Interest_Rate']"
   ]
  },
  {
   "cell_type": "code",
   "execution_count": null,
   "id": "d34482c8",
   "metadata": {},
   "outputs": [],
   "source": [
    "relate_3 = stats.f_oneway(a1,a2,a3,a4,a5,a6,a7,a8,a9,a10,a11,a12,a13,a14)\n",
    "relate_3"
   ]
  },
  {
   "cell_type": "markdown",
   "id": "c1020e6c",
   "metadata": {},
   "source": [
    "***p-value << 0.05, hence we can say we interest rates varies for different purposes of loans.***"
   ]
  },
  {
   "cell_type": "markdown",
   "id": "f47b4b6a",
   "metadata": {},
   "source": [
    "# There is relationship between FICO scores and Home Ownership."
   ]
  },
  {
   "cell_type": "markdown",
   "id": "9b54f632",
   "metadata": {},
   "source": [
    "**Null hypothesis (Ho): There is no relationship between FICO score and the Home Ownership.**\n",
    "    \n",
    "**Alternate Hypothesis (Ha) : There is a relationship between FICO score and the Home Ownership.**\n",
    "    \n",
    "**Confidence Interval : 95% ; p-value : 0.05**"
   ]
  },
  {
   "cell_type": "code",
   "execution_count": null,
   "id": "73e4c853",
   "metadata": {},
   "outputs": [],
   "source": [
    "bankloans.Home_Ownership.nunique()"
   ]
  },
  {
   "cell_type": "code",
   "execution_count": null,
   "id": "e859f291",
   "metadata": {},
   "outputs": [],
   "source": [
    "bankloans.FICO_Range.nunique()"
   ]
  },
  {
   "cell_type": "code",
   "execution_count": null,
   "id": "1bca5150",
   "metadata": {},
   "outputs": [],
   "source": [
    "observe = pd.crosstab(index = bankloans.Home_Ownership,columns = bankloans.FICO_Range)\n",
    "observe"
   ]
  },
  {
   "cell_type": "code",
   "execution_count": null,
   "id": "cc9464a2",
   "metadata": {},
   "outputs": [],
   "source": [
    "stats.chi2_contingency(observe)"
   ]
  },
  {
   "cell_type": "markdown",
   "id": "781b9dea",
   "metadata": {},
   "source": [
    "***p-value <<< 0.05  therefore we can say that there is relationship between FICO scores and Home Ownership. It means that, People \n",
    "with owning home will have high FICO scores.***"
   ]
  }
 ],
 "metadata": {
  "kernelspec": {
   "display_name": "Python 3 (ipykernel)",
   "language": "python",
   "name": "python3"
  },
  "language_info": {
   "codemirror_mode": {
    "name": "ipython",
    "version": 3
   },
   "file_extension": ".py",
   "mimetype": "text/x-python",
   "name": "python",
   "nbconvert_exporter": "python",
   "pygments_lexer": "ipython3",
   "version": "3.9.7"
  }
 },
 "nbformat": 4,
 "nbformat_minor": 5
}
